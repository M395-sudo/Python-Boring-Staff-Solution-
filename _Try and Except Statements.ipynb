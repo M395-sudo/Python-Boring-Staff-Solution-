{
 "cells": [
  {
   "cell_type": "code",
   "execution_count": 1,
   "metadata": {},
   "outputs": [
    {
     "name": "stdout",
     "output_type": "stream",
     "text": [
      "50102528.0\n",
      "25051264.0\n",
      "12525632.0\n",
      "10020505.6\n"
     ]
    }
   ],
   "source": [
    "def spam(divedeBy):\n",
    "    return 100205056/ divedeBy\n",
    "print(spam(2))\n",
    "print(spam(4))\n",
    "print(spam(8))\n",
    "print(spam(10))"
   ]
  },
  {
   "cell_type": "code",
   "execution_count": 2,
   "metadata": {},
   "outputs": [
    {
     "name": "stdout",
     "output_type": "stream",
     "text": [
      "How many cats do you have?\n",
      "8\n",
      "Here is not enough cats\n"
     ]
    }
   ],
   "source": [
    "print(\"How many cats do you have?\")\n",
    "Numcats = input()\n",
    "if int(Numcats)>6:\n",
    "    print (\"Here is not enough cats\")\n",
    "else:\n",
    "    print(\"Here is enough cats\")\n",
    "\n",
    "    "
   ]
  },
  {
   "cell_type": "code",
   "execution_count": null,
   "metadata": {},
   "outputs": [
    {
     "name": "stdout",
     "output_type": "stream",
     "text": [
      "Debug= Secret number is13\n",
      "I am thinking of a number between 1 and 20\n",
      "Take a guess.\n",
      "0\n",
      "Your guess is too low.\n",
      "Take a guess.\n",
      "20\n",
      "Your guess is too high.\n",
      "Take a guess.\n"
     ]
    }
   ],
   "source": [
    "import random\n",
    "secretNumber = random.randint(1,20)\n",
    "print('Debug= Secret number is' + str(secretNumber)) \n",
    "print ('I am thinking of a number between 1 and 20')\n",
    "for guessesTaken in range (1,7):\n",
    "    print('Take a guess.')\n",
    "    guess = int(input()) \n",
    "    if guess < secretNumber:\n",
    "        print('Your guess is too low.')\n",
    "    elif guess > secretNumber:\n",
    "        print('Your guess is too high.')\n",
    "    else:\n",
    "        break #this condition is the correct guess!\n",
    "if guess == secretNumber:\n",
    "    print('Good job! You guessed my number in' + str(guessesTaken) + 'guesses!')\n",
    "else:\n",
    "    print('Nope. The number I was thinking of was' + str(secretNumber))\n",
    "    \n",
    "        \n",
    "    "
   ]
  }
 ],
 "metadata": {
  "kernelspec": {
   "display_name": "Python 3",
   "language": "python",
   "name": "python3"
  },
  "language_info": {
   "codemirror_mode": {
    "name": "ipython",
    "version": 3
   },
   "file_extension": ".py",
   "mimetype": "text/x-python",
   "name": "python",
   "nbconvert_exporter": "python",
   "pygments_lexer": "ipython3",
   "version": "3.7.6"
  }
 },
 "nbformat": 4,
 "nbformat_minor": 2
}
