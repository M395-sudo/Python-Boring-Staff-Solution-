{
 "cells": [
  {
   "cell_type": "code",
   "execution_count": 1,
   "metadata": {},
   "outputs": [
    {
     "name": "stdout",
     "output_type": "stream",
     "text": [
      "PASSWORD100205056\n",
      "Access Denied\n",
      "done\n"
     ]
    }
   ],
   "source": [
    "password = 100205056\n",
    "password = input('PASSWORD')\n",
    "if password == 100205056:\n",
    "    print('Access approved')\n",
    "else:\n",
    "    print('Access Denied')\n",
    "print('done')\n"
   ]
  },
  {
   "cell_type": "code",
   "execution_count": 2,
   "metadata": {},
   "outputs": [
    {
     "name": "stdout",
     "output_type": "stream",
     "text": [
      "Family nameTanvir\n",
      "Year31\n",
      "tanvir is not aleas!\n",
      "done\n"
     ]
    }
   ],
   "source": [
    "Name = 'Tanvir'\n",
    "Age  = 31\n",
    "Name = input('Family name')\n",
    "Age = input('Year')\n",
    "if Name == 'Tanvir':\n",
    "    print('tanvir is not aleas!')\n",
    "elif age >= 31:\n",
    "    print(\"he is suitable for Job\")\n",
    "elif age <= 31:\n",
    "    print(\"he is suitable for MSC\")\n",
    "print('done')"
   ]
  },
  {
   "cell_type": "code",
   "execution_count": 3,
   "metadata": {},
   "outputs": [
    {
     "name": "stdout",
     "output_type": "stream",
     "text": [
      "Enter a name:\n",
      "Arif\n",
      "He is a good boy\n"
     ]
    }
   ],
   "source": [
    "print(\"Enter a name:\")\n",
    "name = input()\n",
    "if name:\n",
    "    print(\"He is a good boy\")\n",
    "else:\n",
    "    print(\"He is a bad boy\")"
   ]
  },
  {
   "cell_type": "code",
   "execution_count": 4,
   "metadata": {},
   "outputs": [
    {
     "data": {
      "text/plain": [
       "False"
      ]
     },
     "execution_count": 4,
     "metadata": {},
     "output_type": "execute_result"
    }
   ],
   "source": [
    "bool(0)"
   ]
  },
  {
   "cell_type": "code",
   "execution_count": 5,
   "metadata": {},
   "outputs": [
    {
     "data": {
      "text/plain": [
       "True"
      ]
     },
     "execution_count": 5,
     "metadata": {},
     "output_type": "execute_result"
    }
   ],
   "source": [
    "bool(\"Hello world!\")"
   ]
  }
 ],
 "metadata": {
  "kernelspec": {
   "display_name": "Python 3",
   "language": "python",
   "name": "python3"
  },
  "language_info": {
   "codemirror_mode": {
    "name": "ipython",
    "version": 3
   },
   "file_extension": ".py",
   "mimetype": "text/x-python",
   "name": "python",
   "nbconvert_exporter": "python",
   "pygments_lexer": "ipython3",
   "version": "3.7.6"
  }
 },
 "nbformat": 4,
 "nbformat_minor": 2
}
