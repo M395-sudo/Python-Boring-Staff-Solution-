{
 "cells": [
  {
   "cell_type": "code",
   "execution_count": 2,
   "metadata": {},
   "outputs": [
    {
     "data": {
      "text/plain": [
       "[{'name': 'zophie', 'age': 7, 'color': 'gray'},\n",
       " {'name': 'zokhu', 'age': 8, 'color': 'green'},\n",
       " {'name': '???', 'age': -1, 'color': 'yellow'}]"
      ]
     },
     "execution_count": 2,
     "metadata": {},
     "output_type": "execute_result"
    }
   ],
   "source": [
    "cat = {'name' : 'zophie', 'age' : 7, 'color' : 'gray'}\n",
    "allcats = []\n",
    "allcats.append({'name' : 'zophie', 'age' : 7, 'color': 'gray'})\n",
    "allcats.append({'name' : 'zokhu', 'age' : 8, 'color': 'green'})\n",
    "allcats.append({'name' : '???', 'age' : -1, 'color': 'yellow'})\n",
    "allcats"
   ]
  },
  {
   "cell_type": "code",
   "execution_count": 16,
   "metadata": {},
   "outputs": [
    {
     "name": "stdout",
     "output_type": "stream",
     "text": [
      "{'low-L': ' ',\n",
      " 'low-M': ' ',\n",
      " 'low-R': ' ',\n",
      " 'mid-L': ' ',\n",
      " 'mid-M': 'X',\n",
      " 'mid-R': ' ',\n",
      " 'top-L': ' ',\n",
      " 'top-M': ' ',\n",
      " 'top-R': ' '}\n",
      "{'low-L': ' ',\n",
      " 'low-M': ' ',\n",
      " 'low-R': ' ',\n",
      " 'mid-L': ' ',\n",
      " 'mid-M': ' ',\n",
      " 'mid-R': ' ',\n",
      " 'top-L': ' ',\n",
      " 'top-M': ' ',\n",
      " 'top-R': ' '}\n",
      "{'low-L': ' ',\n",
      " 'low-M': ' ',\n",
      " 'low-R': ' ',\n",
      " 'mid-L': ' ',\n",
      " 'mid-M': ' X ',\n",
      " 'mid-R': ' ',\n",
      " 'top-L': ' ',\n",
      " 'top-M': ' ',\n",
      " 'top-R': ' '}\n",
      "{'low-L': ' ',\n",
      " 'low-M': ' ',\n",
      " 'low-R': ' ',\n",
      " 'mid-L': ' ',\n",
      " 'mid-M': ' X ',\n",
      " 'mid-R': ' ',\n",
      " 'top-L': 'K',\n",
      " 'top-M': ' ',\n",
      " 'top-R': ' '}\n",
      "{'top-L': 'K', 'top-M': ' ', 'top-R': ' ', 'mid-L': ' ', 'mid-M': ' X ', 'mid-R': ' ', 'low-L': ' ', 'low-M': ' ', 'low-R': ' '}\n"
     ]
    }
   ],
   "source": [
    "theBoard = {'top-L': ' ', 'top-M': ' ', 'top-R': ' ', 'mid-L': ' ', 'mid-M': 'X', 'mid-R': ' ', 'low-L': ' ', 'low-M': ' ', 'low-R': ' '}\n",
    "theBoard\n",
    "import pprint\n",
    "pprint.pprint(theBoard)\n",
    "theBoard['mid-M'] = ' ' \n",
    "theBoard\n",
    "pprint.pprint(theBoard)\n",
    "theBoard['mid-M'] = ' X '\n",
    "pprint.pprint(theBoard)\n",
    "theBoard['top-L'] = 'K'\n",
    "pprint.pprint(theBoard)\n",
    "def tictoc(board):\n",
    "    print(board['top-L']+ '|' + board['top-M'] + '|' + board['top-R'])\n",
    "    print('-----')\n",
    "    print(board['mid-L']+ '|' + board['mid-M'] + '|' + board['mid-R'])\n",
    "    print('-----')\n",
    "    print(board['low-L']+ '|' + board['low-M'] + '|' + board['low-R'])\n",
    "print(theBoard)"
   ]
  },
  {
   "cell_type": "code",
   "execution_count": 2,
   "metadata": {},
   "outputs": [
    {
     "name": "stdout",
     "output_type": "stream",
     "text": [
      "{'top-L': ' ', 'top-M': ' ', 'top-R': ' ', 'mid-L': ' ', 'mid-M': 'X', 'mid-R': ' ', 'low-L': ' ', 'low-M': ' ', 'low-R': ' '}\n"
     ]
    },
    {
     "data": {
      "text/plain": [
       "list"
      ]
     },
     "execution_count": 2,
     "metadata": {},
     "output_type": "execute_result"
    }
   ],
   "source": [
    "theBoard = {'top-L': ' ', 'top-M': ' ', 'top-R': ' ', 'mid-L': ' ', 'mid-M': 'X', 'mid-R': ' ', 'low-L': ' ', 'low-M': ' ', 'low-R': ' '}\n",
    "\n",
    "def tictoc(board):\n",
    "    print(board['top-L']+ '|' + board['top-M'] + '|' + board['top-R'])\n",
    "    print('-----')\n",
    "    print(board['mid-L']+ '|' + board['mid-M'] + '|' + board['mid-R'])\n",
    "    print('-----')\n",
    "    print(board['low-L']+ '|' + board['low-M'] + '|' + board['low-R'])\n",
    "print (theBoard)\n",
    "type(42)\n",
    "type(['top-L'])"
   ]
  }
 ],
 "metadata": {
  "kernelspec": {
   "display_name": "Python 3",
   "language": "python",
   "name": "python3"
  },
  "language_info": {
   "codemirror_mode": {
    "name": "ipython",
    "version": 3
   },
   "file_extension": ".py",
   "mimetype": "text/x-python",
   "name": "python",
   "nbconvert_exporter": "python",
   "pygments_lexer": "ipython3",
   "version": "3.7.6"
  }
 },
 "nbformat": 4,
 "nbformat_minor": 2
}
