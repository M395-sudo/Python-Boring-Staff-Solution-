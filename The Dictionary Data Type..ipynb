{
 "cells": [
  {
   "cell_type": "code",
   "execution_count": 1,
   "metadata": {},
   "outputs": [
    {
     "data": {
      "text/plain": [
       "'grey'"
      ]
     },
     "execution_count": 1,
     "metadata": {},
     "output_type": "execute_result"
    }
   ],
   "source": [
    "myCat = {'size': 'large', 'color': 'grey', 'disposition': 'loud'} # color is a key and 'grey is a value.'\n",
    "myCat['size']\n",
    "myCat['color']"
   ]
  },
  {
   "cell_type": "code",
   "execution_count": 2,
   "metadata": {},
   "outputs": [
    {
     "data": {
      "text/plain": [
       "'loud'"
      ]
     },
     "execution_count": 2,
     "metadata": {},
     "output_type": "execute_result"
    }
   ],
   "source": [
    "myCat['disposition']"
   ]
  },
  {
   "cell_type": "code",
   "execution_count": 3,
   "metadata": {},
   "outputs": [
    {
     "data": {
      "text/plain": [
       "'My Cat has loud voice.'"
      ]
     },
     "execution_count": 3,
     "metadata": {},
     "output_type": "execute_result"
    }
   ],
   "source": [
    "'My Cat has' + ' ' + myCat['disposition'] + ' ' + 'voice.'"
   ]
  },
  {
   "cell_type": "code",
   "execution_count": 4,
   "metadata": {},
   "outputs": [
    {
     "data": {
      "text/plain": [
       "'luggage combination'"
      ]
     },
     "execution_count": 4,
     "metadata": {},
     "output_type": "execute_result"
    }
   ],
   "source": [
    "spam = {12345 : 'luggage combination', 42 : 'the answer'}\n",
    "spam[42]\n",
    "spam[12345]"
   ]
  },
  {
   "cell_type": "code",
   "execution_count": 5,
   "metadata": {},
   "outputs": [
    {
     "data": {
      "text/plain": [
       "'cat'"
      ]
     },
     "execution_count": 5,
     "metadata": {},
     "output_type": "execute_result"
    }
   ],
   "source": [
    "eggs = {'name': 'zophie', 'species':'cat', 'age': 8}\n",
    "ham =  {'species': 'cat', 'name': 'zophie', 'age': 8}\n",
    "eggs == ham # Dictionaries have no order.\n",
    "'name' in eggs\n",
    "'cat' in eggs\n",
    "list(eggs.keys())\n",
    "list(eggs.values())\n",
    "'cat' in eggs.values() \n",
    "'species' in eggs.keys()\n",
    "eggs[\"species\"]\n"
   ]
  },
  {
   "cell_type": "code",
   "execution_count": 6,
   "metadata": {},
   "outputs": [
    {
     "data": {
      "text/plain": [
       "True"
      ]
     },
     "execution_count": 6,
     "metadata": {},
     "output_type": "execute_result"
    }
   ],
   "source": [
    "'cat' not in eggs #focus on key not value."
   ]
  },
  {
   "cell_type": "code",
   "execution_count": 7,
   "metadata": {},
   "outputs": [
    {
     "data": {
      "text/plain": [
       "True"
      ]
     },
     "execution_count": 7,
     "metadata": {},
     "output_type": "execute_result"
    }
   ],
   "source": [
    "'species' in eggs"
   ]
  },
  {
   "cell_type": "code",
   "execution_count": 8,
   "metadata": {},
   "outputs": [
    {
     "data": {
      "text/plain": [
       "[('name', 'zophie'), ('species', 'cat'), ('age', 8)]"
      ]
     },
     "execution_count": 8,
     "metadata": {},
     "output_type": "execute_result"
    }
   ],
   "source": [
    "list(eggs.items())"
   ]
  },
  {
   "cell_type": "code",
   "execution_count": 9,
   "metadata": {},
   "outputs": [
    {
     "data": {
      "text/plain": [
       "dict_keys(['name', 'species', 'age'])"
      ]
     },
     "execution_count": 9,
     "metadata": {},
     "output_type": "execute_result"
    }
   ],
   "source": [
    "eggs.keys()"
   ]
  },
  {
   "cell_type": "code",
   "execution_count": 10,
   "metadata": {},
   "outputs": [
    {
     "data": {
      "text/plain": [
       "['name', 'species', 'age']"
      ]
     },
     "execution_count": 10,
     "metadata": {},
     "output_type": "execute_result"
    }
   ],
   "source": [
    "list(eggs.keys())"
   ]
  },
  {
   "cell_type": "code",
   "execution_count": 11,
   "metadata": {},
   "outputs": [
    {
     "name": "stdout",
     "output_type": "stream",
     "text": [
      "name\n",
      "species\n",
      "age\n"
     ]
    }
   ],
   "source": [
    "for k in eggs.keys():\n",
    "    print(k)"
   ]
  },
  {
   "cell_type": "code",
   "execution_count": 12,
   "metadata": {},
   "outputs": [
    {
     "name": "stdout",
     "output_type": "stream",
     "text": [
      "zophie\n",
      "cat\n",
      "8\n"
     ]
    }
   ],
   "source": [
    "for v in eggs.values():\n",
    "    print(v)"
   ]
  },
  {
   "cell_type": "code",
   "execution_count": 13,
   "metadata": {},
   "outputs": [
    {
     "name": "stdout",
     "output_type": "stream",
     "text": [
      "('name', 'zophie')\n",
      "('species', 'cat')\n",
      "('age', 8)\n"
     ]
    }
   ],
   "source": [
    "for i in eggs.items():\n",
    "    print(i)"
   ]
  },
  {
   "cell_type": "code",
   "execution_count": 14,
   "metadata": {},
   "outputs": [
    {
     "data": {
      "text/plain": [
       "dict_items([('name', 'zophie'), ('species', 'cat'), ('age', 8)])"
      ]
     },
     "execution_count": 14,
     "metadata": {},
     "output_type": "execute_result"
    }
   ],
   "source": [
    "eggs.items()"
   ]
  },
  {
   "cell_type": "code",
   "execution_count": 15,
   "metadata": {},
   "outputs": [
    {
     "data": {
      "text/plain": [
       "''"
      ]
     },
     "execution_count": 15,
     "metadata": {},
     "output_type": "execute_result"
    }
   ],
   "source": [
    "eggs.get('age',0)\n",
    "eggs.get('species',0)\n",
    "eggs.get('color', '')"
   ]
  },
  {
   "cell_type": "code",
   "execution_count": 16,
   "metadata": {},
   "outputs": [
    {
     "name": "stdout",
     "output_type": "stream",
     "text": [
      "The education system is good of this TUC.\n"
     ]
    }
   ],
   "source": [
    "msT = {'value' : 'good', 'uiv' : 'TUC' } #Dictonaries\n",
    "print('The education system is' + ' ' + msT['value'] + ' ' +'of this' + ' ' + msT['uiv'] + '.')"
   ]
  },
  {
   "cell_type": "code",
   "execution_count": 17,
   "metadata": {},
   "outputs": [
    {
     "name": "stdout",
     "output_type": "stream",
     "text": [
      "I am bringing 54 and 54, moreover 54 instreuments.\n"
     ]
    }
   ],
   "source": [
    "picnicItems = {'dishes': 54, 'waterBottels': 54}\n",
    "print('I am bringing' + ' ' + str (picnicItems['dishes']) \n",
    "      + ' ' +'and' \n",
    "      + ' ' + str (picnicItems['waterBottels']) + ',' + ' ' +'moreover' + ' ' +\n",
    "      str(picnicItems.get('napkins', 54)) + ' ' + 'instreuments.')"
   ]
  },
  {
   "cell_type": "code",
   "execution_count": 18,
   "metadata": {},
   "outputs": [
    {
     "data": {
      "text/plain": [
       "'blue'"
      ]
     },
     "execution_count": 18,
     "metadata": {},
     "output_type": "execute_result"
    }
   ],
   "source": [
    "msT = {'value' : 'good', 'uiv' : 'TUC' } #Dictonaries\n",
    "msT.setdefault('color','blue')"
   ]
  },
  {
   "cell_type": "code",
   "execution_count": 19,
   "metadata": {},
   "outputs": [
    {
     "data": {
      "text/plain": [
       "{'value': 'good', 'uiv': 'TUC', 'color': 'blue'}"
      ]
     },
     "execution_count": 19,
     "metadata": {},
     "output_type": "execute_result"
    }
   ],
   "source": [
    "msT"
   ]
  },
  {
   "cell_type": "code",
   "execution_count": 20,
   "metadata": {},
   "outputs": [
    {
     "name": "stdout",
     "output_type": "stream",
     "text": [
      "{'name': 'Tanvir', 'age': 31, 'uni': 'Chemnitz', 'colour': 'orange'}\n"
     ]
    },
    {
     "data": {
      "text/plain": [
       "{'name': 'zophie', 'species': 'cat', 'age': 8}"
      ]
     },
     "execution_count": 20,
     "metadata": {},
     "output_type": "execute_result"
    }
   ],
   "source": [
    "tuC =  {'name': 'Tanvir', 'age': 31, 'uni': 'Chemnitz'}\n",
    "tuC.setdefault('colour', 'orange')\n",
    "print(tuC)\n",
    "tuC['colour']\n",
    "eggs"
   ]
  },
  {
   "cell_type": "code",
   "execution_count": 21,
   "metadata": {},
   "outputs": [
    {
     "data": {
      "text/plain": [
       "'orange'"
      ]
     },
     "execution_count": 21,
     "metadata": {},
     "output_type": "execute_result"
    }
   ],
   "source": [
    "tuC =  {'name': 'Tanvir', 'age': 31, 'uni': 'Chemnitz'}\n",
    "tuC.setdefault('colour', 'orange')\n",
    "tuC\n",
    "tuC ['colour']\n",
    "tuC.setdefault('colour', 'black')\n",
    "tuC\n",
    "tuC['colour'] # default value is not changed again."
   ]
  },
  {
   "cell_type": "code",
   "execution_count": 22,
   "metadata": {},
   "outputs": [],
   "source": [
    "#CharecterCount.py"
   ]
  },
  {
   "cell_type": "code",
   "execution_count": 23,
   "metadata": {},
   "outputs": [
    {
     "name": "stdout",
     "output_type": "stream",
     "text": [
      "{'H': 1, 'e': 2, ' ': 7, 'i': 1, 's': 2, 'a': 2, 'g': 1, 'o': 5, 'd': 3, 'b': 1, 'y': 1, 'n': 2, 'c': 1, 'l': 1, 't': 2, 'u': 1, '.': 1}\n"
     ]
    }
   ],
   "source": [
    "message = 'He is a good boy and cool student.'\n",
    "count = {}\n",
    "for character in message:\n",
    "    count.setdefault(character, 0)\n",
    "    count[character] = count[character] + 1\n",
    "print(count)\n",
    "    \n",
    "    "
   ]
  },
  {
   "cell_type": "code",
   "execution_count": 24,
   "metadata": {},
   "outputs": [
    {
     "name": "stdout",
     "output_type": "stream",
     "text": [
      "{'H': 1, 'E': 2, ' ': 7, 'I': 1, 'S': 2, 'A': 2, 'G': 1, 'O': 5, 'D': 3, 'B': 1, 'Y': 1, 'N': 2, 'C': 1, 'L': 1, 'T': 2, 'U': 1, '.': 1}\n"
     ]
    }
   ],
   "source": [
    "message = 'He is a good boy and cool student.'\n",
    "count = {}\n",
    "for character in message.upper():\n",
    "    count.setdefault(character, 0)\n",
    "    count[character] = count[character] + 1\n",
    "print(count)"
   ]
  },
  {
   "cell_type": "code",
   "execution_count": 25,
   "metadata": {},
   "outputs": [
    {
     "name": "stdout",
     "output_type": "stream",
     "text": [
      "{'i': 1, ' ': 3, 'a': 2, 'm': 1, 's': 1, 't': 2, 'u': 1, 'd': 1, 'e': 1, 'n': 1}\n"
     ]
    }
   ],
   "source": [
    "message = 'I aM A StuDent'\n",
    "count = {}\n",
    "for x in message. lower():\n",
    "    count.setdefault(x, 0)\n",
    "    count[x] = count[x] + 1\n",
    "\n",
    "print(count)"
   ]
  },
  {
   "cell_type": "code",
   "execution_count": 26,
   "metadata": {},
   "outputs": [],
   "source": [
    "import pprint\n",
    "shakesper = '''The writings of Shakespeare have been justly termed “the richest, the purest, the fairest, that genius uninspired ever penned. Shakespeare instructed by delighting. His plays alone (leaving mere science out of the question), contain more actual wisdom than the whole body of English learning. He is the teacher of all good-- pity, generosity, true courage, love. His bright wit is cut out “into little stars.” His solid masses of knowledge are meted out in morsels and proverbs, and thus distributed, there is scarcely a corner of the English-speaking world to-day which he does not illuminate, or a cottage which he does not enrich. His bounty is like the sea, which, though often unacknowledged, is everywhere felt. As his friend, Ben Jonson, wrote of him, “He was not of an age but for all time.” He ever kept the highroad of human life whereon all travel. He did not pick out by-paths of feeling and sentiment. In his creations we have no moral highwaymen, sentimental thieves, interesting villains, and amiable, elegant adventuresses--no delicate entanglements of situation, in which the grossest images are presented to the mind disguised under the superficial attraction of style and sentiment. He flattered no bad passion, disguised no vice in the garb of virtue, trifled with no just and generous principle. While causing us to laugh at folly, and shudder at crime, he still preserves our love for our fellow-beings, and our reverence for ourselves.Shakespeare was familiar with all beautiful forms and images, with all that is sweet or majestic in the simple aspects of nature, of that indestructible love of flowers and fragrance, and dews, and clear waters--and soft airs and sounds, and bright skies and woodland solitudes, and moon-light bowers, which are the material elements of poetry,--and with that fine sense of their indefinable relation to mental emotion, which is its essence and vivifying soul--and which, in the midst of his most busy and tragical scenes, falls like gleams of sunshine on rocks and ruins--contrasting with all that is rugged or repulsive, and reminding us of the existence of purer and brighter elements.''These things considered, what wonder is it that the works of Shakespeare, next to the Bible, are the most highly esteemed of all the classics of English literature. “So extensively have the characters of Shakespeare been drawn upon by artists, poets, and writers of fiction,” says an American author,--“So interwoven are these characters in the great body of English literature, that to be ignorant of the plot of these dramas is often a cause of embarrassment.”But Shakespeare wrote for grown-up people, for men and women, and in words that little folks cannot understand.Hence this volume. To reproduce the entertaining stories contained in the plays of Shakespeare, in a form so simple that children can understand and enjoy them, was the object had in view by the author of these Beautiful Stories from Shakespeare.And that the youngest readers may not stumble in pronouncing any unfamiliar names to be met with in the stories, the editor has prepared and included in the volume a Pronouncing Vocabulary of Difficult Names. To which is added a collection of Shakespearean Quotations, classified in alphabetical order, illustrative of the wisdom and genius of the world greatest dramatist.'''"
   ]
  },
  {
   "cell_type": "code",
   "execution_count": 27,
   "metadata": {},
   "outputs": [
    {
     "name": "stdout",
     "output_type": "stream",
     "text": [
      "{' ': 537,\n",
      " \"'\": 2,\n",
      " '(': 1,\n",
      " ')': 1,\n",
      " ',': 53,\n",
      " '-': 20,\n",
      " '.': 21,\n",
      " 'A': 3,\n",
      " 'B': 4,\n",
      " 'D': 1,\n",
      " 'E': 4,\n",
      " 'H': 10,\n",
      " 'I': 1,\n",
      " 'J': 1,\n",
      " 'N': 1,\n",
      " 'P': 1,\n",
      " 'Q': 1,\n",
      " 'S': 12,\n",
      " 'T': 4,\n",
      " 'V': 1,\n",
      " 'W': 1,\n",
      " 'a': 208,\n",
      " 'b': 32,\n",
      " 'c': 70,\n",
      " 'd': 107,\n",
      " 'e': 350,\n",
      " 'f': 73,\n",
      " 'g': 58,\n",
      " 'h': 136,\n",
      " 'i': 203,\n",
      " 'j': 5,\n",
      " 'k': 20,\n",
      " 'l': 118,\n",
      " 'm': 58,\n",
      " 'n': 201,\n",
      " 'o': 182,\n",
      " 'p': 43,\n",
      " 'q': 1,\n",
      " 'r': 162,\n",
      " 's': 197,\n",
      " 't': 238,\n",
      " 'u': 79,\n",
      " 'v': 29,\n",
      " 'w': 49,\n",
      " 'x': 3,\n",
      " 'y': 29,\n",
      " '“': 5,\n",
      " '”': 4}\n"
     ]
    },
    {
     "data": {
      "text/plain": [
       "'{\\' \\': 537,\\n \"\\'\": 2,\\n \\'(\\': 1,\\n \\')\\': 1,\\n \\',\\': 53,\\n \\'-\\': 20,\\n \\'.\\': 21,\\n \\'A\\': 3,\\n \\'B\\': 4,\\n \\'D\\': 1,\\n \\'E\\': 4,\\n \\'H\\': 10,\\n \\'I\\': 1,\\n \\'J\\': 1,\\n \\'N\\': 1,\\n \\'P\\': 1,\\n \\'Q\\': 1,\\n \\'S\\': 12,\\n \\'T\\': 4,\\n \\'V\\': 1,\\n \\'W\\': 1,\\n \\'a\\': 208,\\n \\'b\\': 32,\\n \\'c\\': 70,\\n \\'d\\': 107,\\n \\'e\\': 350,\\n \\'f\\': 73,\\n \\'g\\': 58,\\n \\'h\\': 136,\\n \\'i\\': 203,\\n \\'j\\': 5,\\n \\'k\\': 20,\\n \\'l\\': 118,\\n \\'m\\': 58,\\n \\'n\\': 201,\\n \\'o\\': 182,\\n \\'p\\': 43,\\n \\'q\\': 1,\\n \\'r\\': 162,\\n \\'s\\': 197,\\n \\'t\\': 238,\\n \\'u\\': 79,\\n \\'v\\': 29,\\n \\'w\\': 49,\\n \\'x\\': 3,\\n \\'y\\': 29,\\n \\'“\\': 5,\\n \\'”\\': 4}'"
      ]
     },
     "execution_count": 27,
     "metadata": {},
     "output_type": "execute_result"
    }
   ],
   "source": [
    "count = { }\n",
    "for x in shakesper:\n",
    "    count.setdefault(x, 0)\n",
    "    count[x] = count[x] + 1\n",
    "pprint.pprint(count) #pprint is only used for order follow.\n",
    "pprint.pformat(count)"
   ]
  },
  {
   "cell_type": "code",
   "execution_count": 28,
   "metadata": {},
   "outputs": [
    {
     "data": {
      "text/plain": [
       "'{\\' \\': 537,\\n \"\\'\": 2,\\n \\'(\\': 1,\\n \\')\\': 1,\\n \\',\\': 53,\\n \\'-\\': 20,\\n \\'.\\': 21,\\n \\'A\\': 3,\\n \\'B\\': 4,\\n \\'D\\': 1,\\n \\'E\\': 4,\\n \\'H\\': 10,\\n \\'I\\': 1,\\n \\'J\\': 1,\\n \\'N\\': 1,\\n \\'P\\': 1,\\n \\'Q\\': 1,\\n \\'S\\': 12,\\n \\'T\\': 4,\\n \\'V\\': 1,\\n \\'W\\': 1,\\n \\'a\\': 208,\\n \\'b\\': 32,\\n \\'c\\': 70,\\n \\'d\\': 107,\\n \\'e\\': 350,\\n \\'f\\': 73,\\n \\'g\\': 58,\\n \\'h\\': 136,\\n \\'i\\': 203,\\n \\'j\\': 5,\\n \\'k\\': 20,\\n \\'l\\': 118,\\n \\'m\\': 58,\\n \\'n\\': 201,\\n \\'o\\': 182,\\n \\'p\\': 43,\\n \\'q\\': 1,\\n \\'r\\': 162,\\n \\'s\\': 197,\\n \\'t\\': 238,\\n \\'u\\': 79,\\n \\'v\\': 29,\\n \\'w\\': 49,\\n \\'x\\': 3,\\n \\'y\\': 29,\\n \\'“\\': 5,\\n \\'”\\': 4}'"
      ]
     },
     "execution_count": 28,
     "metadata": {},
     "output_type": "execute_result"
    }
   ],
   "source": [
    "pprint.pformat(count)"
   ]
  }
 ],
 "metadata": {
  "kernelspec": {
   "display_name": "Python 3",
   "language": "python",
   "name": "python3"
  },
  "language_info": {
   "codemirror_mode": {
    "name": "ipython",
    "version": 3
   },
   "file_extension": ".py",
   "mimetype": "text/x-python",
   "name": "python",
   "nbconvert_exporter": "python",
   "pygments_lexer": "ipython3",
   "version": "3.7.6"
  }
 },
 "nbformat": 4,
 "nbformat_minor": 2
}
