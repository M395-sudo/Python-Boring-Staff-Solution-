{
 "cells": [
  {
   "cell_type": "code",
   "execution_count": 1,
   "metadata": {},
   "outputs": [
    {
     "name": "stdout",
     "output_type": "stream",
     "text": [
      "[1.2 3.2 1.1 2.1]\n"
     ]
    }
   ],
   "source": [
    "import numpy as np\n",
    "iat_list = [1.2, 3.2, 1.1, 2.1]\n",
    "iat_array = np.asarray(iat_list)\n",
    "print (iat_array)\n"
   ]
  },
  {
   "cell_type": "code",
   "execution_count": 2,
   "metadata": {},
   "outputs": [
    {
     "name": "stdout",
     "output_type": "stream",
     "text": [
      "[ 1.44 10.24  1.21  4.41]\n"
     ]
    }
   ],
   "source": [
    "import numpy as np\n",
    "iat_list = [1.2, 3.2, 1.1, 2.1]\n",
    "iat_array = np.asarray(iat_list)\n",
    "print (iat_list* iat_array)"
   ]
  },
  {
   "cell_type": "code",
   "execution_count": 3,
   "metadata": {},
   "outputs": [
    {
     "name": "stdout",
     "output_type": "stream",
     "text": [
      "62.0\n",
      "[ 1.2  4.6 10.2 18.  28. ]\n"
     ]
    }
   ],
   "source": [
    "a = np.asarray([1, 2, 3, 4, 5])\n",
    "b = np.asarray([1.2, 2.3, 3.4, 4.5, 5.6])\n",
    "a_dot_b = a@b\n",
    "a_mul_b = a*b\n",
    "print(a_dot_b)\n",
    "print(a_mul_b)"
   ]
  },
  {
   "cell_type": "code",
   "execution_count": 4,
   "metadata": {},
   "outputs": [
    {
     "name": "stdout",
     "output_type": "stream",
     "text": [
      "[ 0.4872134   0.66332331  0.1912012  ...  2.56737945  1.37404785\n",
      " -0.07336905]\n"
     ]
    }
   ],
   "source": [
    "import random\n",
    "rng = np.random.default_rng()\n",
    "a = np.empty(500_000)\n",
    "for i in range(500_000):\n",
    "    a[i] = rng.standard_normal()\n",
    "rng = np.random.default_rng()\n",
    "a = rng.standard_normal(500_000)\n",
    "print(a)"
   ]
  },
  {
   "cell_type": "code",
   "execution_count": 5,
   "metadata": {},
   "outputs": [
    {
     "data": {
      "text/plain": [
       "True"
      ]
     },
     "execution_count": 5,
     "metadata": {},
     "output_type": "execute_result"
    }
   ],
   "source": [
    "a = [False, False, False, False, True, False, True]\n",
    "np.any(a)"
   ]
  },
  {
   "cell_type": "code",
   "execution_count": 6,
   "metadata": {},
   "outputs": [
    {
     "data": {
      "text/plain": [
       "False"
      ]
     },
     "execution_count": 6,
     "metadata": {},
     "output_type": "execute_result"
    }
   ],
   "source": [
    "b = [False, False, False, False, False, False, False]\n",
    "np.any(b)"
   ]
  }
 ],
 "metadata": {
  "kernelspec": {
   "display_name": "Python 3",
   "language": "python",
   "name": "python3"
  },
  "language_info": {
   "codemirror_mode": {
    "name": "ipython",
    "version": 3
   },
   "file_extension": ".py",
   "mimetype": "text/x-python",
   "name": "python",
   "nbconvert_exporter": "python",
   "pygments_lexer": "ipython3",
   "version": "3.7.6"
  }
 },
 "nbformat": 4,
 "nbformat_minor": 4
}
