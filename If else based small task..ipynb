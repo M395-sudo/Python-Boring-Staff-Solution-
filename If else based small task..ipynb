{
 "cells": [
  {
   "cell_type": "code",
   "execution_count": 3,
   "metadata": {},
   "outputs": [
    {
     "name": "stdout",
     "output_type": "stream",
     "text": [
      "TUChemnitz!\n",
      "You can go to the University\n",
      "done\n"
     ]
    }
   ],
   "source": [
    "password = '!TUChemnitz'\n",
    "password = input()\n",
    "if password == 'TUChemnitz!':\n",
    "    print('You can go to the University')\n",
    "else:\n",
    "    print('University is closed for corona issue')\n",
    "print('done') "
   ]
  }
 ],
 "metadata": {
  "kernelspec": {
   "display_name": "Python 3",
   "language": "python",
   "name": "python3"
  },
  "language_info": {
   "codemirror_mode": {
    "name": "ipython",
    "version": 3
   },
   "file_extension": ".py",
   "mimetype": "text/x-python",
   "name": "python",
   "nbconvert_exporter": "python",
   "pygments_lexer": "ipython3",
   "version": "3.7.6"
  }
 },
 "nbformat": 4,
 "nbformat_minor": 2
}
