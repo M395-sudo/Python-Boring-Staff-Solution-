{
 "cells": [
  {
   "cell_type": "code",
   "execution_count": 1,
   "metadata": {},
   "outputs": [
    {
     "name": "stdout",
     "output_type": "stream",
     "text": [
      "Hello world!\n"
     ]
    }
   ],
   "source": [
    "print ('Hello world!')"
   ]
  },
  {
   "cell_type": "code",
   "execution_count": 2,
   "metadata": {},
   "outputs": [
    {
     "name": "stdout",
     "output_type": "stream",
     "text": [
      "Hello world!\n"
     ]
    }
   ],
   "source": [
    "print(\"Hello world!\")"
   ]
  },
  {
   "cell_type": "code",
   "execution_count": 28,
   "metadata": {},
   "outputs": [
    {
     "name": "stdout",
     "output_type": "stream",
     "text": [
      "Hello Love You World\n"
     ]
    }
   ],
   "source": [
    "Var1 = 'Hello'\n",
    "Var2 = 'World'\n",
    "print(Var1 + ' Love You ' + Var2)\n"
   ]
  },
  {
   "cell_type": "code",
   "execution_count": 29,
   "metadata": {},
   "outputs": [
    {
     "name": "stdout",
     "output_type": "stream",
     "text": [
      "33\n"
     ]
    }
   ],
   "source": [
    "a = 33\n",
    "print (a)"
   ]
  },
  {
   "cell_type": "code",
   "execution_count": 33,
   "metadata": {},
   "outputs": [
    {
     "name": "stdout",
     "output_type": "stream",
     "text": [
      "22\n"
     ]
    }
   ],
   "source": [
    "a = 22\n",
    "print (a)"
   ]
  },
  {
   "cell_type": "code",
   "execution_count": 34,
   "metadata": {},
   "outputs": [
    {
     "name": "stdout",
     "output_type": "stream",
     "text": [
      "<class 'str'>\n"
     ]
    }
   ],
   "source": [
    "x = \"Hello world!\"\n",
    "print(type(x))"
   ]
  },
  {
   "cell_type": "code",
   "execution_count": 44,
   "metadata": {},
   "outputs": [
    {
     "name": "stdout",
     "output_type": "stream",
     "text": [
      "My matriculation number is: <class 'int'>\n"
     ]
    }
   ],
   "source": [
    "x = 623340\n",
    "print(\"My matriculation number is:\", type(x))"
   ]
  },
  {
   "cell_type": "code",
   "execution_count": 54,
   "metadata": {},
   "outputs": [
    {
     "name": "stdout",
     "output_type": "stream",
     "text": [
      "Value of x after += operation: Hello World!\n"
     ]
    }
   ],
   "source": [
    "x = \"Hello World\"\n",
    "x += \"!\" #is equal to x = x + \"!\"\n",
    "print(\"Value of x after += operation: \"+ x)\n"
   ]
  },
  {
   "cell_type": "code",
   "execution_count": 67,
   "metadata": {},
   "outputs": [
    {
     "name": "stdout",
     "output_type": "stream",
     "text": [
      "The new answer is: New String\n",
      "New String\n"
     ]
    }
   ],
   "source": [
    "a = \"New\"\n",
    "b = \"String\"\n",
    "new_result = a + ' ' + b\n",
    "print (\"The new answer is: \" + new_result)\n",
    "print (a + ' ' + b)"
   ]
  },
  {
   "cell_type": "code",
   "execution_count": 76,
   "metadata": {},
   "outputs": [
    {
     "name": "stdout",
     "output_type": "stream",
     "text": [
      "<class 'int'>\n",
      "<class 'float'>\n",
      "<class 'complex'>\n"
     ]
    },
    {
     "data": {
      "text/plain": [
       "complex"
      ]
     },
     "execution_count": 76,
     "metadata": {},
     "output_type": "execute_result"
    }
   ],
   "source": [
    "X = 10\n",
    "Y = 4.0\n",
    "Z = 6 + 5j\n",
    "print(type(X))\n",
    "print(type(Y))\n",
    "print(type(Z))\n",
    "type(X)\n",
    "type(Y)\n",
    "type(Z)\n",
    "\n"
   ]
  },
  {
   "cell_type": "code",
   "execution_count": 94,
   "metadata": {},
   "outputs": [
    {
     "name": "stdout",
     "output_type": "stream",
     "text": [
      "<class 'float'>\n",
      "4.997\n"
     ]
    }
   ],
   "source": [
    "z = 3e-3\n",
    "print(type (z))\n",
    "print (5-z)"
   ]
  },
  {
   "cell_type": "code",
   "execution_count": 2,
   "metadata": {},
   "outputs": [
    {
     "name": "stdout",
     "output_type": "stream",
     "text": [
      "56\n",
      "40.0\n",
      "3j\n",
      "56 <class 'int'> is convert to: <class 'float'>\n",
      "40.0 <class 'int'> is convert to: <class 'float'>\n",
      "3j <class 'complex'> is convert to: <class 'complex'>\n"
     ]
    },
    {
     "data": {
      "text/plain": [
       "56"
      ]
     },
     "execution_count": 2,
     "metadata": {},
     "output_type": "execute_result"
    }
   ],
   "source": [
    "#Type Conversion Example:\n",
    "x = 56.67\n",
    "y = 40\n",
    "z = 3j\n",
    "\n",
    "a = int (x)\n",
    "b = float (y)\n",
    "c = complex (z)\n",
    "\n",
    "print (a)\n",
    "print (b)\n",
    "print (c)\n",
    "type (a)\n",
    "print(a, type(a), \"is convert to:\", type(x))\n",
    "print(b, type(y), \"is convert to:\", type (b))\n",
    "print(c, type(z), \"is convert to:\", type(c))\n",
    "int(x)\n"
   ]
  },
  {
   "cell_type": "code",
   "execution_count": 113,
   "metadata": {},
   "outputs": [
    {
     "data": {
      "text/plain": [
       "(56, 40.0, 3j)"
      ]
     },
     "execution_count": 113,
     "metadata": {},
     "output_type": "execute_result"
    }
   ],
   "source": [
    "#Arithmetic Operators\n",
    "#Collection types\n",
    "a,b,c\n"
   ]
  },
  {
   "cell_type": "code",
   "execution_count": 8,
   "metadata": {},
   "outputs": [
    {
     "name": "stdout",
     "output_type": "stream",
     "text": [
      "['Lion', 10, 20]\n",
      "56\n",
      "['Cat', 'Dog', 'wildCat', 'Tiger', 'Lion', 10]\n",
      "[20, 56, 0.8]\n",
      "wildCat\n",
      "Tiger\n",
      "0.8\n"
     ]
    }
   ],
   "source": [
    "a = ['Cat', 'Dog', 'wildCat', 'Tiger', 'Lion', 10, 20, 56, 0.8] #list\n",
    "print(a[4:7])\n",
    "print(a[7])\n",
    "print(a[:6])\n",
    "print(a[6:])\n",
    "print(a[6-4])\n",
    "print(a[3])\n",
    "print(a[8])"
   ]
  },
  {
   "cell_type": "code",
   "execution_count": 136,
   "metadata": {},
   "outputs": [
    {
     "name": "stdout",
     "output_type": "stream",
     "text": [
      "['TUC', 'abbu', 'vaia', 'vabi', 'sifat', 10, 20, 30, 0.3]\n",
      "TUC\n",
      "['TUC', 'abbu', 'vaia', 'vabi', 'Raj', 'Bd', 'Dhaka', 'Luxmipur', 30, 0.3]\n",
      "0.3\n"
     ]
    }
   ],
   "source": [
    "a = ['ammu', 'abbu', 'vaia', 'vabi', 'sifat', 10, 20, 30, 0.3]\n",
    "a[0] = 'TUC'\n",
    "print(a)\n",
    "print(a[0])\n",
    "a[4:7] = 'Raj','Bd','Dhaka', 'Luxmipur'\n",
    "print(a)\n",
    "print(a[9])"
   ]
  },
  {
   "cell_type": "code",
   "execution_count": 141,
   "metadata": {},
   "outputs": [
    {
     "name": "stdout",
     "output_type": "stream",
     "text": [
      "[10, 'list', 'with', 'some', 'strings', 323, 2132, 50, 0.3]\n"
     ]
    }
   ],
   "source": [
    "a = [\"a\", \"list\", \"with\", \"multiple\", \"strings\", \"and\", 10, 50 ,0.3] \n",
    "a[0] = 10 \n",
    "a[3:7] = [\"some\", \"strings\", 323, 2132]\n",
    "print(a)\n"
   ]
  },
  {
   "cell_type": "code",
   "execution_count": 21,
   "metadata": {},
   "outputs": [
    {
     "name": "stdout",
     "output_type": "stream",
     "text": [
      "2\n",
      "['Dhaka', 'China', 'USA', 1, 3, 10, 20]\n",
      "3\n",
      "['Dhaka', 'China', 'USA', 1, 10, 20]\n",
      "20\n",
      "['Dhaka', 'China', 'USA', 1, 10]\n",
      "USA\n"
     ]
    }
   ],
   "source": [
    "# POP() IS ALSO USED FOR REMOVE THE INDEX ITEM FROM X\n",
    "\n",
    "x =  [\"Dhaka\", \"China\", \"USA\", 1, 2, 3, 10, 20]\n",
    "y = x.pop(4)\n",
    "print(y)\n",
    "print(x)\n",
    "print(x.pop(4))\n",
    "print(x)\n",
    "print(x.pop(-1))\n",
    "print(x)\n",
    "print(x.pop(-3))"
   ]
  },
  {
   "cell_type": "code",
   "execution_count": 26,
   "metadata": {},
   "outputs": [
    {
     "name": "stdout",
     "output_type": "stream",
     "text": [
      "None\n",
      "['a', 'b', 'c', 1, 2, 3, 4]\n"
     ]
    }
   ],
   "source": [
    "# remove() is used for remove the given datas\n",
    "# It is used for directly delect from the list number\n",
    "#Exceptional\n",
    "\n",
    "x = [\"a\", \"b\", \"c\", 1, 2, 3, 4, 67]\n",
    "y = x.remove(67)\n",
    "print(y)\n",
    "print(x)"
   ]
  },
  {
   "cell_type": "code",
   "execution_count": 50,
   "metadata": {},
   "outputs": [
    {
     "name": "stdout",
     "output_type": "stream",
     "text": [
      "['a', 'b', 1, 2, 3, 4, 67]\n",
      "['a', 'b', 3, 4, 67]\n",
      "5\n"
     ]
    }
   ],
   "source": [
    "x = [\"a\", \"b\", \"c\", 1, 2, 3, 4, 67]\n",
    "del x[2]\n",
    "print (x)\n",
    "del x[2:4]\n",
    "print (x)\n",
    "print(len(x))"
   ]
  },
  {
   "cell_type": "code",
   "execution_count": 71,
   "metadata": {},
   "outputs": [
    {
     "name": "stdout",
     "output_type": "stream",
     "text": [
      "['Hello Tanvir,', 'How are you?', 'What is your exam result?'] 3\n",
      "['Hello Tanvir,', 'How are you?'] 2\n",
      "['Hello Tanvir,']\n",
      "['What is your exam result?']\n",
      "[]\n"
     ]
    }
   ],
   "source": [
    "#Join lists together\n",
    "\n",
    "x = [\"Hello Tanvir,\", \"How are you?\"]\n",
    "y = [\"What is your exam result?\"]\n",
    "z = x + y\n",
    "print(z, len(z))\n",
    "del z[2]\n",
    "print(z, len(z))\n",
    "z.remove(\"How are you?\")\n",
    "print(z)\n",
    "z.remove(\"Hello Tanvir,\")\n",
    "print(y)\n",
    "print(z)\n",
    "\n"
   ]
  },
  {
   "cell_type": "code",
   "execution_count": 85,
   "metadata": {},
   "outputs": [
    {
     "name": "stdout",
     "output_type": "stream",
     "text": [
      "[[1, 2, 3], [4, 5, 6], [7, 8, 9]]\n",
      "Number of Rows: 3\n",
      "Number of Columns: 3\n"
     ]
    }
   ],
   "source": [
    "#nested lists\n",
    "# at first row then column\n",
    "\n",
    "matrix = [[1,2,3],[4,5,6], [7, 8, 9]]\n",
    "print(matrix)\n",
    "print(\"Number of Rows:\", len(matrix))\n",
    "print(\"Number of Columns:\", len(matrix[0]))\n"
   ]
  },
  {
   "cell_type": "code",
   "execution_count": 87,
   "metadata": {},
   "outputs": [
    {
     "name": "stdout",
     "output_type": "stream",
     "text": [
      "Addition:  [[ 8 10 12]\n",
      " [14 16 18]]\n"
     ]
    }
   ],
   "source": [
    "import numpy\n",
    "x = numpy.array([[1,2,3],[4,5,6]])\n",
    "y = numpy.array([[7,8,9],[10,11,12]])\n",
    "print(\"Addition: \", numpy.add(x,y))"
   ]
  },
  {
   "cell_type": "code",
   "execution_count": 65,
   "metadata": {},
   "outputs": [
    {
     "name": "stdout",
     "output_type": "stream",
     "text": [
      "['a', 'b', 'c', 1, 2, 3, 4]\n"
     ]
    },
    {
     "data": {
      "text/plain": [
       "list"
      ]
     },
     "execution_count": 65,
     "metadata": {},
     "output_type": "execute_result"
    }
   ],
   "source": [
    "#Collection Types - Tuple\n",
    "\n",
    "a = ('a', 'b', 'c', 1, 2, 3, 3)\n",
    "a = list(a)\n",
    "a[6] = 4\n",
    "print(a)\n",
    "type(a)\n",
    "\n"
   ]
  },
  {
   "cell_type": "code",
   "execution_count": 68,
   "metadata": {},
   "outputs": [
    {
     "name": "stdout",
     "output_type": "stream",
     "text": [
      "(0, 1, 2, 4, 5, 6)\n",
      "6\n"
     ]
    }
   ],
   "source": [
    "# join tuples \n",
    "\n",
    "a = (0, 1, 2)\n",
    "b = (4, 5, 6)\n",
    "c = a + b\n",
    "c\n",
    "print(c)\n",
    "print(len(c))"
   ]
  },
  {
   "cell_type": "code",
   "execution_count": 83,
   "metadata": {},
   "outputs": [
    {
     "name": "stdout",
     "output_type": "stream",
     "text": [
      "{'Is', 'Allah', 'is', 'great'} 4\n",
      "{'Is', 'Allah', 'is', 'great'}\n"
     ]
    }
   ],
   "source": [
    "#Collection Types - Set\n",
    "\n",
    "a = {\"Allah\", \"is\", \"great\", \"is\", \"Is\"}\n",
    "print(a, len(a))\n",
    "print(a)"
   ]
  },
  {
   "cell_type": "code",
   "execution_count": 96,
   "metadata": {},
   "outputs": [
    {
     "name": "stdout",
     "output_type": "stream",
     "text": [
      "{'lichi', 'grape', 'apple', 'orange', 'banana', 'tomato'}\n",
      "<class 'set'>\n",
      "{'lichi', 'apple', 'orange', 'banana', 'tomato'} 5\n"
     ]
    }
   ],
   "source": [
    "#modify a set \n",
    "\n",
    "a = {'apple', 'orange', 'tomato', 'banana', 'lichi'}\n",
    "a.add('grape')\n",
    "print(a)\n",
    "print(type(a))\n",
    "a.remove('grape')\n",
    "print(a, len(a))"
   ]
  },
  {
   "cell_type": "code",
   "execution_count": 97,
   "metadata": {},
   "outputs": [
    {
     "name": "stdout",
     "output_type": "stream",
     "text": [
      "{3, 4}\n"
     ]
    }
   ],
   "source": [
    "a = {1, 2, 3, 4}\n",
    "b = {3, 4, 5, 6}\n",
    "y = a.intersection(b)\n",
    "print(y)"
   ]
  },
  {
   "cell_type": "code",
   "execution_count": 9,
   "metadata": {},
   "outputs": [
    {
     "name": "stdout",
     "output_type": "stream",
     "text": [
      "{1, 2, 3, 4, 5, 6}\n"
     ]
    }
   ],
   "source": [
    "a = {1, 2, 3, 4}\n",
    "b = {3, 4, 5, 6}\n",
    "y = a.union(b)\n",
    "print(y)"
   ]
  },
  {
   "cell_type": "code",
   "execution_count": 7,
   "metadata": {},
   "outputs": [
    {
     "name": "stdout",
     "output_type": "stream",
     "text": [
      "{1, 2}\n"
     ]
    }
   ],
   "source": [
    "a = {1, 2, 3, 4}\n",
    "b = {3, 4, 5, 6}\n",
    "y = a.difference(b)\n",
    "print(y)"
   ]
  },
  {
   "cell_type": "code",
   "execution_count": 37,
   "metadata": {},
   "outputs": [
    {
     "name": "stdout",
     "output_type": "stream",
     "text": [
      "dict_keys(['y', 'name', 'Age', 'Cla', 'Uni']) dict_values([0.5, 'Tanvir', 31, 14, 'TUC'])\n",
      "0.5\n",
      "Tanvir\n",
      "14\n",
      "TUC\n",
      "dict_keys(['y', 'name', 'Age', 'Cla', 'Uni'])\n",
      "dict_values([0.5, 'Tanvir', 31, 14, 'TUC'])\n"
     ]
    }
   ],
   "source": [
    "#Collection Types - Dictionary\n",
    "\n",
    "x = {'y': 0.5, 'name': 'Tanvir', 'Age': 31, 'Cla': 14, 'Uni': 'TUC'}\n",
    "print(x.keys(), x.values())\n",
    "print(x['y'])\n",
    "print(x['name'])\n",
    "print(x['Cla'])\n",
    "print(x['Uni']) \n",
    "print(x.keys())\n",
    "print(x.values())"
   ]
  },
  {
   "cell_type": "code",
   "execution_count": 43,
   "metadata": {},
   "outputs": [
    {
     "name": "stdout",
     "output_type": "stream",
     "text": [
      "{'x': 23, 'Name': 'Tanvir', 'Age': 31, 'Sex': 'Male', 'y': 34}\n",
      "{'Name': 'Tanvir', 'Age': 31, 'Sex': 'Male', 'y': 34}\n",
      "{'Age': 31, 'Sex': 'Male', 'y': 34}\n"
     ]
    }
   ],
   "source": [
    "#modify a dictionary \n",
    "\n",
    "T = {'x':23, 'Name':'Tanvir', 'Age':31, 'Sex': 'Male'}\n",
    "T['y'] = 34\n",
    "print(T)\n",
    "T.pop('x') # pop means delect kora.\n",
    "print(T)\n",
    "del T['Name'] #Del means delect kora.\n",
    "print(T)"
   ]
  },
  {
   "cell_type": "code",
   "execution_count": 44,
   "metadata": {},
   "outputs": [
    {
     "data": {
      "text/plain": [
       "(True, False)"
      ]
     },
     "execution_count": 44,
     "metadata": {},
     "output_type": "execute_result"
    }
   ],
   "source": [
    "#Boolean Type\n",
    "\n",
    "not False, not True"
   ]
  },
  {
   "cell_type": "code",
   "execution_count": 45,
   "metadata": {},
   "outputs": [
    {
     "name": "stdout",
     "output_type": "stream",
     "text": [
      "False\n",
      "False\n",
      "False\n",
      "True\n"
     ]
    }
   ],
   "source": [
    "print(False and False) # zero is false, one is true\n",
    "print(False and True)\n",
    "print(True and False)\n",
    "print(True and True)"
   ]
  },
  {
   "cell_type": "code",
   "execution_count": 46,
   "metadata": {},
   "outputs": [
    {
     "name": "stdout",
     "output_type": "stream",
     "text": [
      "False\n",
      "True\n",
      "True\n",
      "True\n"
     ]
    }
   ],
   "source": [
    "print(False or False)\n",
    "print(False or True)\n",
    "print(True or False)\n",
    "print(True or True)\n"
   ]
  },
  {
   "cell_type": "code",
   "execution_count": 52,
   "metadata": {},
   "outputs": [
    {
     "name": "stdout",
     "output_type": "stream",
     "text": [
      "False\n",
      "False\n",
      "True\n",
      "False\n",
      "True\n"
     ]
    }
   ],
   "source": [
    "print(False ^ False)\n",
    "print(True ^ True)\n",
    "print(False ^ True)\n",
    "print(True ^ True)\n",
    "print(True ^ False)"
   ]
  },
  {
   "cell_type": "code",
   "execution_count": 64,
   "metadata": {},
   "outputs": [
    {
     "name": "stdout",
     "output_type": "stream",
     "text": [
      "8 == 10 False\n",
      "False\n",
      "True\n",
      "True\n",
      "True\n",
      "False\n"
     ]
    }
   ],
   "source": [
    "#Comparison Operators\n",
    "\n",
    "a = 8\n",
    "b = 10\n",
    "print(\"%d == %d\" % (a, b),a == b)\n",
    "print(a==b)\n",
    "print(a!=b)\n",
    "print(b>a)\n",
    "print(b>=a)\n",
    "print(b<=a)"
   ]
  },
  {
   "cell_type": "code",
   "execution_count": 69,
   "metadata": {},
   "outputs": [],
   "source": [
    "#Control Flow - Decision making\n",
    "\n",
    "def h(x=0):\n",
    "    if x>5:\n",
    "        print('He is a good boy')\n",
    "    elif x<=5:\n",
    "        print('He is so good')\n",
    "    else:\n",
    "        print('He is cute')\n",
    "\n",
    "    "
   ]
  },
  {
   "cell_type": "code",
   "execution_count": 3,
   "metadata": {},
   "outputs": [
    {
     "name": "stdout",
     "output_type": "stream",
     "text": [
      "0\n",
      "1\n",
      "2\n",
      "3\n"
     ]
    }
   ],
   "source": [
    "numbers = range(0, 4, 1) #0 is the first value,3 is the last value, 1 is step, 0, 1, 2, 3\n",
    "for number in numbers:\n",
    "    print(number)\n",
    "    \n"
   ]
  },
  {
   "cell_type": "code",
   "execution_count": 6,
   "metadata": {},
   "outputs": [
    {
     "name": "stdout",
     "output_type": "stream",
     "text": [
      "current value is: hotel\n",
      "hotel\n",
      "current value is: motel\n",
      "motel\n",
      "current value is: house\n",
      "house\n",
      "current value is: apartment\n",
      "apartment\n"
     ]
    }
   ],
   "source": [
    "values = [\"hotel\", \"motel\", \"house\", \"apartment\"]\n",
    "for value in values:\n",
    "    print(\"current value is:\", value)\n",
    "    print(value)"
   ]
  },
  {
   "cell_type": "code",
   "execution_count": 1,
   "metadata": {},
   "outputs": [
    {
     "name": "stdout",
     "output_type": "stream",
     "text": [
      "Bangladesh is a beautiful country\n",
      "Bangladesh is a beautiful country\n",
      "Bangladesh is a beautiful country\n"
     ]
    }
   ],
   "source": [
    "#Control Flow - Loops - While-Loop\n",
    "\n",
    "i = 0\n",
    "while i<12:\n",
    "    if i % 4 == 0:\n",
    "        print(\"Bangladesh is a beautiful country\")\n",
    "    i = i + 1\n",
    "\n",
    "    \n",
    "    "
   ]
  },
  {
   "cell_type": "code",
   "execution_count": 50,
   "metadata": {},
   "outputs": [
    {
     "name": "stdout",
     "output_type": "stream",
     "text": [
      "param_1: I\n",
      "param_2: LOVE\n",
      "param_3 BANGLADESH\n",
      "param_4 None\n"
     ]
    }
   ],
   "source": [
    "def my_function(param_1, param_2, param_3=\"\", param_4 = None):\n",
    "    print(\"param_1:\", param_1)\n",
    "    print(\"param_2:\", param_2)\n",
    "    print(\"param_3\", param_3)\n",
    "    print(\"param_4\", param_4)\n",
    "my_function(\"I\", \"LOVE\", \"BANGLADESH\")"
   ]
  },
  {
   "cell_type": "code",
   "execution_count": 60,
   "metadata": {},
   "outputs": [],
   "source": [
    "def my_function(param, param_2, optional_param, optional_param_2= None):    \n",
    "    print(\"param: \", param)    \n",
    "    print(\"param 2: \", param_2)    \n",
    "    print(\"optional_param: \", optional_param),    \n",
    "    print(\"optional_param 2:\", optional_param_2)   "
   ]
  },
  {
   "cell_type": "code",
   "execution_count": 61,
   "metadata": {},
   "outputs": [
    {
     "name": "stdout",
     "output_type": "stream",
     "text": [
      "param:  10\n",
      "param 2:  20\n",
      "optional_param:  optional\n",
      "optional_param 2: 30\n"
     ]
    }
   ],
   "source": [
    "my_function(10, 20, \"optional\", 30)"
   ]
  },
  {
   "cell_type": "code",
   "execution_count": 64,
   "metadata": {},
   "outputs": [
    {
     "data": {
      "text/plain": [
       "[<matplotlib.lines.Line2D at 0x19e37a1a988>]"
      ]
     },
     "execution_count": 64,
     "metadata": {},
     "output_type": "execute_result"
    },
    {
     "data": {
      "image/png": "[encoded data removed]",
      "text/plain": [
       "<Figure size 144x144 with 1 Axes>"
      ]
     },
     "metadata": {
      "needs_background": "light"
     },
     "output_type": "display_data"
    }
   ],
   "source": [
    "import matplotlib.pyplot as plt\n",
    "plt.figure(figsize=(2,2))\n",
    "plt.plot([0,1,2,3],[0,1,2,3])\n"
   ]
  },
  {
   "cell_type": "code",
   "execution_count": 80,
   "metadata": {},
   "outputs": [
    {
     "data": {
      "text/plain": [
       "[<matplotlib.lines.Line2D at 0x19e37fc41c8>]"
      ]
     },
     "execution_count": 80,
     "metadata": {},
     "output_type": "execute_result"
    },
    {
     "data": {
      "image/png": "[encoded data removed]",
      "text/plain": [
       "<Figure size 288x288 with 1 Axes>"
      ]
     },
     "metadata": {
      "needs_background": "light"
     },
     "output_type": "display_data"
    }
   ],
   "source": [
    "import matplotlib.pyplot as sex \n",
    "sex.figure(figsize=(4,4))\n",
    "sex.plot([0,1,2,3],[0,1,2,3])\n"
   ]
  },
  {
   "cell_type": "code",
   "execution_count": 81,
   "metadata": {},
   "outputs": [
    {
     "name": "stdout",
     "output_type": "stream",
     "text": [
      "<class 'numpy.ndarray'> [5 4 3] int32 (3,)\n"
     ]
    }
   ],
   "source": [
    "#NumPy - Arrays \n",
    "import numpy as np\n",
    "a = np.array([5,4,3])\n",
    "print(type(a), a, a.dtype, a.shape)"
   ]
  },
  {
   "cell_type": "code",
   "execution_count": 87,
   "metadata": {},
   "outputs": [
    {
     "name": "stdout",
     "output_type": "stream",
     "text": [
      "<class 'numpy.ndarray'> [[5 4 3 4]\n",
      " [4 2 3 4]] int32 (2, 4)\n"
     ]
    }
   ],
   "source": [
    "import numpy as np\n",
    "b = np.array([[5,4,3,4], [4, 2, 3,4]])\n",
    "print(type(b), b, b.dtype, b.shape)"
   ]
  }
 ],
 "metadata": {
  "kernelspec": {
   "display_name": "Python 3",
   "language": "python",
   "name": "python3"
  },
  "language_info": {
   "codemirror_mode": {
    "name": "ipython",
    "version": 3
   },
   "file_extension": ".py",
   "mimetype": "text/x-python",
   "name": "python",
   "nbconvert_exporter": "python",
   "pygments_lexer": "ipython3",
   "version": "3.7.6"
  }
 },
 "nbformat": 4,
 "nbformat_minor": 2
}
