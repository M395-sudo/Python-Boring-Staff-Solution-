{
 "cells": [
  {
   "cell_type": "code",
   "execution_count": 1,
   "metadata": {},
   "outputs": [
    {
     "name": "stdout",
     "output_type": "stream",
     "text": [
      "True\n"
     ]
    }
   ],
   "source": [
    "#A non regular expression\n",
    "def isphoneNumber(text): # 415-555-\n",
    "    if len(text) != 12:\n",
    "        return False # this is not a phone number.\n",
    "    for i in range(0, 3):\n",
    "        if not text[i].isdecimal():\n",
    "            return False #no area code\n",
    "    if text[3] != '-':\n",
    "        return False #missing dash\n",
    "    for i in range(4, 7):\n",
    "        if not text[i].isdecimal():\n",
    "            return False #no first 3 digits\n",
    "    if text[7] != '-':\n",
    "        return False #missing second dash\n",
    "    for i in range(8, 12):\n",
    "        if not text[i].isdecimal():\n",
    "            return False # missing last 4 digits\n",
    "    return True\n",
    "\n",
    "print(isphoneNumber('415-555-1234'))"
   ]
  },
  {
   "cell_type": "code",
   "execution_count": 2,
   "metadata": {},
   "outputs": [
    {
     "name": "stdout",
     "output_type": "stream",
     "text": [
      "False\n"
     ]
    }
   ],
   "source": [
    "def isphoneNumber(text): # 415-555-\n",
    "    if len(text) != 12:\n",
    "        return False # this is not a phone number.\n",
    "    for i in range(0, 3):\n",
    "        if not text[i].isdecimal():\n",
    "            return False #no area code\n",
    "    if text[3] != '-':\n",
    "        return False #missing dash\n",
    "    for i in range(4, 7):\n",
    "        if not text[i].isdecimal():\n",
    "            return False #no first 3 digits\n",
    "    if text[7] != '-':\n",
    "        return False #missing second dash\n",
    "    for i in range(8, 12):\n",
    "        if not text[i].isdecimal():\n",
    "            return False # missing last 4 digits\n",
    "    return True\n",
    "\n",
    "print(isphoneNumber('Hallo'))"
   ]
  }
 ],
 "metadata": {
  "kernelspec": {
   "display_name": "Python 3",
   "language": "python",
   "name": "python3"
  },
  "language_info": {
   "codemirror_mode": {
    "name": "ipython",
    "version": 3
   },
   "file_extension": ".py",
   "mimetype": "text/x-python",
   "name": "python",
   "nbconvert_exporter": "python",
   "pygments_lexer": "ipython3",
   "version": "3.7.6"
  }
 },
 "nbformat": 4,
 "nbformat_minor": 2
}
